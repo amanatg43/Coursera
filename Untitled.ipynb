{
 "cells": [
  {
   "cell_type": "markdown",
   "id": "d12090d3",
   "metadata": {},
   "source": [
    "# My Jupyter Notebook on IBM Watson Studio"
   ]
  },
  {
   "cell_type": "markdown",
   "id": "e811c203",
   "metadata": {},
   "source": [
    "## AMAN SINGH\n",
    "Wants to become Data Analyst"
   ]
  },
  {
   "cell_type": "markdown",
   "id": "092817c7",
   "metadata": {},
   "source": [
    "### <i>I am interested in data science because i like to play with data"
   ]
  },
  {
   "cell_type": "markdown",
   "id": "31d32050",
   "metadata": {},
   "source": [
    "### We perform a simple addition and a simple substraction"
   ]
  },
  {
   "cell_type": "code",
   "execution_count": 5,
   "id": "8711bb3f",
   "metadata": {},
   "outputs": [
    {
     "name": "stdout",
     "output_type": "stream",
     "text": [
      "5\n",
      "-1\n"
     ]
    }
   ],
   "source": [
    "a = 2\n",
    "b = 3\n",
    "print(a+b)\n",
    "print(a-b)"
   ]
  },
  {
   "cell_type": "markdown",
   "id": "7c65fc95",
   "metadata": {},
   "source": [
    "### BULLET POINT LIST\n",
    "\n",
    "- First\n",
    "- Second\n",
    "- Third\n",
    "- Fourth\n",
    "- Fifth"
   ]
  },
  {
   "cell_type": "markdown",
   "id": "ff571098",
   "metadata": {},
   "source": [
    "### NUMBER LIST\n",
    "\n",
    "1. First\n",
    "2. Second\n",
    "3. Third\n",
    "4. Fourth\n",
    "5. Fifth"
   ]
  },
  {
   "attachments": {
    "JNB.jpg": {
     "image/jpeg": "[encoded data removed]"
    }
   },
   "cell_type": "markdown",
   "id": "ed68df6b",
   "metadata": {},
   "source": [
    "### IMAGE\n",
    "\n",
    "![JNB.jpg](attachment:JNB.jpg)"
   ]
  }
 ],
 "metadata": {
  "kernelspec": {
   "display_name": "Python 3",
   "language": "python",
   "name": "python3"
  },
  "language_info": {
   "codemirror_mode": {
    "name": "ipython",
    "version": 3
   },
   "file_extension": ".py",
   "mimetype": "text/x-python",
   "name": "python",
   "nbconvert_exporter": "python",
   "pygments_lexer": "ipython3",
   "version": "3.8.8"
  }
 },
 "nbformat": 4,
 "nbformat_minor": 5
}
